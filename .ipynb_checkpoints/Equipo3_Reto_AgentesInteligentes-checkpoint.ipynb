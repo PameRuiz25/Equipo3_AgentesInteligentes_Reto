{
 "cells": [
  {
   "cell_type": "markdown",
   "id": "4b931ceb-d1df-44d4-8090-a8e6ee5e9f26",
   "metadata": {},
   "source": []
  },
  {
   "cell_type": "markdown",
   "id": "9d4d8bc8-93fd-4cfa-851a-e420dbdcb5d7",
   "metadata": {},
   "source": [
    "**INSTITUTO TECNOLÓGICO DE ESTUDIOS SUPERIORES DE MONTERREY**\n",
    "\n",
    "**Escuela de Ingeniería y Ciencias - Ingeniería en Ciencia de Datos y Matemáticas**\n",
    "\n",
    "## Evidencia Final\n",
    "### Proyecto de aprendizaje supervisado\n",
    "Modelación del aprendizaje con inteligencia artificial (Gpo 302) - TC2034.302\n",
    "\n",
    "**Profesora:** Dra. María Valentina Narváez Terán\n",
    "\n",
    "**Equipo 3**\n",
    "\n",
    "Annette Pamela Ruiz Abreu - A01423595\n",
    "\n",
    "Leslie Ramos Gutiérrez - A01562461\n",
    "\n",
    "Rodrigo González Zermeño - A00572213\n",
    "\n",
    "Sarah Dorado Romo - A01540946\n",
    "\n",
    "Monterrey, Nuevo León. 27 de mayo de 2023\n"
   ]
  },
  {
   "cell_type": "code",
   "execution_count": null,
   "id": "be5928e4-b1a9-4dcc-a6a4-7ea01a7649bb",
   "metadata": {},
   "outputs": [],
   "source": []
  }
 ],
 "metadata": {
  "kernelspec": {
   "display_name": "Python 3 (ipykernel)",
   "language": "python",
   "name": "python3"
  },
  "language_info": {
   "codemirror_mode": {
    "name": "ipython",
    "version": 3
   },
   "file_extension": ".py",
   "mimetype": "text/x-python",
   "name": "python",
   "nbconvert_exporter": "python",
   "pygments_lexer": "ipython3",
   "version": "3.9.13"
  }
 },
 "nbformat": 4,
 "nbformat_minor": 5
}
